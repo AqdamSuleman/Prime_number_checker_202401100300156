{
  "nbformat": 4,
  "nbformat_minor": 0,
  "metadata": {
    "colab": {
      "provenance": []
    },
    "kernelspec": {
      "name": "python3",
      "display_name": "Python 3"
    },
    "language_info": {
      "name": "python"
    }
  },
  "cells": [
    {
      "cell_type": "code",
      "execution_count": 1,
      "metadata": {
        "colab": {
          "base_uri": "https://localhost:8080/"
        },
        "id": "wjXwAh--lt-p",
        "outputId": "c6fcf626-3060-4802-95e1-de6dc5b6c1cd"
      },
      "outputs": [
        {
          "output_type": "stream",
          "name": "stdout",
          "text": [
            "\n",
            "1. Check if a number is prime\n",
            "2. Generate a list of prime numbers\n",
            "3. Exit\n",
            "Enter your choice (1/2/3): 1\n",
            "Enter a number to check: 78\n",
            "78 is not a prime number.\n",
            "Do you want to continue? (yes/no): yes\n",
            "\n",
            "1. Check if a number is prime\n",
            "2. Generate a list of prime numbers\n",
            "3. Exit\n",
            "Enter your choice (1/2/3): 2\n",
            "How many prime numbers do you want to generate? 5\n",
            "The first 5 prime numbers are: [2, 3, 5, 7, 11]\n",
            "\n",
            "1. Check if a number is prime\n",
            "2. Generate a list of prime numbers\n",
            "3. Exit\n",
            "Enter your choice (1/2/3): 3\n",
            "Exiting the program. Goodbye!\n"
          ]
        }
      ],
      "source": [
        "# Function to check if a number is prime\n",
        "def is_prime(num):\n",
        "    if num <= 1:\n",
        "        return False\n",
        "    for i in range(2, int(num**0.5) + 1):\n",
        "        if num % i == 0:\n",
        "            return False\n",
        "    return True\n",
        "\n",
        "# Function to generate the first 'n' prime numbers\n",
        "def generate_primes(n):\n",
        "    primes = []\n",
        "    num = 2\n",
        "    while len(primes) < n:\n",
        "        if is_prime(num):\n",
        "            primes.append(num)\n",
        "        num += 1\n",
        "    return primes\n",
        "\n",
        "# Main function to handle user interaction\n",
        "def main():\n",
        "    while True:\n",
        "        print(\"\\n1. Check if a number is prime\")\n",
        "        print(\"2. Generate a list of prime numbers\")\n",
        "        print(\"3. Exit\")\n",
        "\n",
        "        choice = input(\"Enter your choice (1/2/3): \")\n",
        "\n",
        "        if choice == '1':\n",
        "            num = int(input(\"Enter a number to check: \"))\n",
        "            if is_prime(num):\n",
        "                print(f\"{num} is a prime number.\")\n",
        "            else:\n",
        "                print(f\"{num} is not a prime number.\")\n",
        "\n",
        "            # Ask if the user wants to continue\n",
        "            next_step = input(\"Do you want to continue? (yes/no): \").strip().lower()\n",
        "            if next_step != 'yes':\n",
        "                print(\"Exiting the program. Goodbye!\")\n",
        "                break\n",
        "\n",
        "        elif choice == '2':\n",
        "            n = int(input(\"How many prime numbers do you want to generate? \"))\n",
        "            primes = generate_primes(n)\n",
        "            print(f\"The first {n} prime numbers are: {primes}\")\n",
        "\n",
        "        elif choice == '3':\n",
        "            print(\"Exiting the program. Goodbye!\")\n",
        "            break\n",
        "\n",
        "        else:\n",
        "            print(\"Invalid choice! Please try again.\")\n",
        "\n",
        "if __name__ == \"__main__\":\n",
        "    main()\n"
      ]
    }
  ]
}